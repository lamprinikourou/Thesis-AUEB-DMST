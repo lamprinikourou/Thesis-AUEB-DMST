{
 "cells": [
  {
   "cell_type": "code",
   "execution_count": 1,
   "id": "3177cfcd-fd9b-40ac-b353-629ea629354d",
   "metadata": {},
   "outputs": [
    {
     "name": "stdout",
     "output_type": "stream",
     "text": [
      "              mean         std   min    25%    50%    75%     max\n",
      "ID      537.207946  322.479994  65.0  357.0  516.0  578.0  1438.0\n",
      "DATA_0   71.086599   88.977175   0.0    0.0   16.0  127.0   255.0\n",
      "DATA_1   69.989250   95.583743   0.0    0.0   12.0  128.0   255.0\n",
      "DATA_2   55.011272   72.765838   0.0    0.0   13.0  125.0   255.0\n",
      "DATA_3   57.453638   90.320766   0.0    0.0    0.0   92.0   255.0\n",
      "DATA_4   45.285167   64.458350   0.0    0.0    6.0   86.0   255.0\n",
      "DATA_5   53.882613   94.336120   0.0    0.0    0.0   63.0   255.0\n",
      "DATA_6   71.749144  101.687183   0.0    0.0    0.0  138.0   255.0\n",
      "DATA_7   60.274769   99.965467   0.0    0.0    0.0   80.0   255.0\n"
     ]
    }
   ],
   "source": [
    "import pandas as pd\n",
    "\n",
    "files = {\n",
    "    'DoS': 'decimal_DoS.csv',\n",
    "    'Benign': 'decimal_benign.csv',\n",
    "    'Spoofing-GAS': 'decimal_spoofing-GAS.csv',\n",
    "    'Spoofing-RPM': 'decimal_spoofing-RPM.csv',\n",
    "    'Spoofing-SPEED': 'decimal_spoofing-SPEED.csv',\n",
    "    'Spoofing-STEERING_WHEEL': 'decimal_spoofing-STEERING_WHEEL.csv'\n",
    "}\n",
    "\n",
    "combined_data = pd.DataFrame()\n",
    "\n",
    "for attack_type, filepath in files.items():\n",
    "        data = pd.read_csv(filepath)\n",
    "        data['Attack_Type'] = attack_type  \n",
    "        combined_data = pd.concat([combined_data, data], ignore_index=True)\n",
    "\n",
    "if not combined_data.empty:\n",
    "    columns_of_interest = ['ID', 'DATA_0', 'DATA_1', 'DATA_2', 'DATA_3', 'DATA_4', 'DATA_5', 'DATA_6', 'DATA_7']\n",
    "    if all(col in combined_data.columns for col in columns_of_interest):\n",
    "\n",
    "        descriptive_stats = combined_data[columns_of_interest].describe().T[['mean', 'std', 'min', '25%', '50%', '75%', 'max']]\n",
    "        print(descriptive_stats)\n",
    "        \n",
    "        descriptive_stats.to_csv('overall_descriptive_statistics.csv', index=True)\n",
    "    else:\n",
    "        print(\"Some required columns are missing in the combined dataset.\")\n",
    "else:\n",
    "    print(\"No data available to calculate statistics.\")"
   ]
  }
 ],
 "metadata": {
  "kernelspec": {
   "display_name": "Python 3 (ipykernel)",
   "language": "python",
   "name": "python3"
  },
  "language_info": {
   "codemirror_mode": {
    "name": "ipython",
    "version": 3
   },
   "file_extension": ".py",
   "mimetype": "text/x-python",
   "name": "python",
   "nbconvert_exporter": "python",
   "pygments_lexer": "ipython3",
   "version": "3.12.1"
  }
 },
 "nbformat": 4,
 "nbformat_minor": 5
}
